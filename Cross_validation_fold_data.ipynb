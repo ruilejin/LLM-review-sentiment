{
  "cells": [
    {
      "cell_type": "markdown",
      "metadata": {
        "id": "view-in-github",
        "colab_type": "text"
      },
      "source": [
        "<a href=\"https://colab.research.google.com/github/ruilejin/LLM-review-sentiment/blob/main/Cross_validation_fold_data.ipynb\" target=\"_parent\"><img src=\"https://colab.research.google.com/assets/colab-badge.svg\" alt=\"Open In Colab\"/></a>"
      ]
    },
    {
      "cell_type": "code",
      "source": [
        "from google.colab import drive\n",
        "drive.mount('/content/drive')"
      ],
      "metadata": {
        "id": "5Ft8Z6poBhZ3"
      },
      "execution_count": null,
      "outputs": [],
      "id": "5Ft8Z6poBhZ3"
    },
    {
      "cell_type": "code",
      "execution_count": null,
      "id": "b2a9b7eb",
      "metadata": {
        "id": "b2a9b7eb",
        "outputId": "aae9e23c-f3ee-4755-8513-f9ebdb315c10"
      },
      "outputs": [
        {
          "name": "stderr",
          "output_type": "stream",
          "text": [
            "<frozen importlib._bootstrap>:219: RuntimeWarning: scipy._lib.messagestream.MessageStream size changed, may indicate binary incompatibility. Expected 56 from C header, got 64 from PyObject\n"
          ]
        }
      ],
      "source": [
        "import numpy as np\n",
        "import pandas as pd\n",
        "import torch\n",
        "from sklearn.model_selection import KFold"
      ]
    },
    {
      "cell_type": "code",
      "execution_count": null,
      "id": "356ffc1b",
      "metadata": {
        "id": "356ffc1b"
      },
      "outputs": [],
      "source": [
        "def kfold_data(k,dataframe):\n",
        "    X = list(dataframe['review_content'])\n",
        "    y1 = list(dataframe['review_type'])\n",
        "    dummies=pd.get_dummies(y1)\n",
        "    y=list(dummies['Fresh']) # Fresh is 1, Rotten is 0.\n",
        "\n",
        "    kf=KFold(n_splits=k, shuffle=True, random_state=1)\n",
        "\n",
        "    for train_index, test_index in kf.split(X):\n",
        "        X_train=[]\n",
        "        X_test=[]\n",
        "        y_train=[]\n",
        "        y_test=[]\n",
        "        for i in train_index:\n",
        "            X_train.append(X[i])\n",
        "            y_train.append(y[i])\n",
        "        for i in test_index:\n",
        "            X_test.append(X[i])\n",
        "            y_test.append(y[i])\n",
        "        yield X_train,y_train,X_test,y_test"
      ]
    },
    {
      "cell_type": "code",
      "execution_count": null,
      "id": "540ea828",
      "metadata": {
        "id": "540ea828"
      },
      "outputs": [],
      "source": [
        "def prepare_kfold_datasets(k,dataframe):\n",
        "    train_datasets=[]\n",
        "    test_datasets=[]\n",
        "    X_train_for_all=[]\n",
        "    y_train_for_all=[]\n",
        "    X_test_for_all=[]\n",
        "    y_test_for_all=[]\n",
        "    for X_train,y_train,X_test,y_test in kfold_data(k,dataframe):\n",
        "        X_train_for_all.append(X_train)\n",
        "        y_train_for_all.append(y_train)\n",
        "        X_test_for_all.append(X_test)\n",
        "        y_test_for_all.append(y_test)\n",
        "    return X_train_for_all,y_train_for_all,X_test_for_all,y_test_for_all"
      ]
    },
    {
      "cell_type": "code",
      "execution_count": null,
      "id": "2dd4e989",
      "metadata": {
        "id": "2dd4e989"
      },
      "outputs": [],
      "source": [
        "df=reviews_all=pd.read_csv('/content/drive/MyDrive/Colab Notebooks/data/data_use.csv',sep=',')"
      ]
    },
    {
      "cell_type": "code",
      "execution_count": null,
      "id": "5ae4c832",
      "metadata": {
        "id": "5ae4c832",
        "outputId": "67a336be-b36f-4722-861b-7bb6646f25b3"
      },
      "outputs": [
        {
          "data": {
            "text/html": [
              "<div>\n",
              "<style scoped>\n",
              "    .dataframe tbody tr th:only-of-type {\n",
              "        vertical-align: middle;\n",
              "    }\n",
              "\n",
              "    .dataframe tbody tr th {\n",
              "        vertical-align: top;\n",
              "    }\n",
              "\n",
              "    .dataframe thead th {\n",
              "        text-align: right;\n",
              "    }\n",
              "</style>\n",
              "<table border=\"1\" class=\"dataframe\">\n",
              "  <thead>\n",
              "    <tr style=\"text-align: right;\">\n",
              "      <th></th>\n",
              "      <th>rotten_tomatoes_link</th>\n",
              "      <th>review_type</th>\n",
              "      <th>review_content</th>\n",
              "      <th>genres</th>\n",
              "    </tr>\n",
              "  </thead>\n",
              "  <tbody>\n",
              "    <tr>\n",
              "      <th>0</th>\n",
              "      <td>m/10009583-fade_to_black</td>\n",
              "      <td>Rotten</td>\n",
              "      <td>All credit to writer-director Oliver Parker fo...</td>\n",
              "      <td>Mystery &amp; Suspense</td>\n",
              "    </tr>\n",
              "    <tr>\n",
              "      <th>1</th>\n",
              "      <td>m/10009583-fade_to_black</td>\n",
              "      <td>Rotten</td>\n",
              "      <td>On paper this must have looked a neat idea: a ...</td>\n",
              "      <td>Mystery &amp; Suspense</td>\n",
              "    </tr>\n",
              "    <tr>\n",
              "      <th>2</th>\n",
              "      <td>m/10009583-fade_to_black</td>\n",
              "      <td>Rotten</td>\n",
              "      <td>A retro pastiche that, like The Good German be...</td>\n",
              "      <td>Mystery &amp; Suspense</td>\n",
              "    </tr>\n",
              "    <tr>\n",
              "      <th>3</th>\n",
              "      <td>m/10009583-fade_to_black</td>\n",
              "      <td>Rotten</td>\n",
              "      <td>Like Black Magic itself, alas, this is destine...</td>\n",
              "      <td>Mystery &amp; Suspense</td>\n",
              "    </tr>\n",
              "    <tr>\n",
              "      <th>4</th>\n",
              "      <td>m/10009583-fade_to_black</td>\n",
              "      <td>Fresh</td>\n",
              "      <td>For all its flaws, it's a movie-lover's movie,...</td>\n",
              "      <td>Mystery &amp; Suspense</td>\n",
              "    </tr>\n",
              "    <tr>\n",
              "      <th>...</th>\n",
              "      <td>...</td>\n",
              "      <td>...</td>\n",
              "      <td>...</td>\n",
              "      <td>...</td>\n",
              "    </tr>\n",
              "    <tr>\n",
              "      <th>91804</th>\n",
              "      <td>m/krampus</td>\n",
              "      <td>Fresh</td>\n",
              "      <td>Krampus is undoubtedly slight, but it's also a...</td>\n",
              "      <td>Horror</td>\n",
              "    </tr>\n",
              "    <tr>\n",
              "      <th>91805</th>\n",
              "      <td>m/crimson_peak</td>\n",
              "      <td>Fresh</td>\n",
              "      <td>Not only did I love every silly, gothic, gorge...</td>\n",
              "      <td>Horror</td>\n",
              "    </tr>\n",
              "    <tr>\n",
              "      <th>91806</th>\n",
              "      <td>m/needful_things</td>\n",
              "      <td>Fresh</td>\n",
              "      <td>any movie that has the devil laughing to ave m...</td>\n",
              "      <td>Horror</td>\n",
              "    </tr>\n",
              "    <tr>\n",
              "      <th>91807</th>\n",
              "      <td>m/the_clovehitch_killer</td>\n",
              "      <td>Fresh</td>\n",
              "      <td>The Clovehitch Killer is one of those films th...</td>\n",
              "      <td>Horror</td>\n",
              "    </tr>\n",
              "    <tr>\n",
              "      <th>91808</th>\n",
              "      <td>m/hell_fest</td>\n",
              "      <td>Fresh</td>\n",
              "      <td>For this coward, however, I found myself surpr...</td>\n",
              "      <td>Horror</td>\n",
              "    </tr>\n",
              "  </tbody>\n",
              "</table>\n",
              "<p>91809 rows × 4 columns</p>\n",
              "</div>"
            ],
            "text/plain": [
              "           rotten_tomatoes_link review_type  \\\n",
              "0      m/10009583-fade_to_black      Rotten   \n",
              "1      m/10009583-fade_to_black      Rotten   \n",
              "2      m/10009583-fade_to_black      Rotten   \n",
              "3      m/10009583-fade_to_black      Rotten   \n",
              "4      m/10009583-fade_to_black       Fresh   \n",
              "...                         ...         ...   \n",
              "91804                 m/krampus       Fresh   \n",
              "91805            m/crimson_peak       Fresh   \n",
              "91806          m/needful_things       Fresh   \n",
              "91807   m/the_clovehitch_killer       Fresh   \n",
              "91808               m/hell_fest       Fresh   \n",
              "\n",
              "                                          review_content              genres  \n",
              "0      All credit to writer-director Oliver Parker fo...  Mystery & Suspense  \n",
              "1      On paper this must have looked a neat idea: a ...  Mystery & Suspense  \n",
              "2      A retro pastiche that, like The Good German be...  Mystery & Suspense  \n",
              "3      Like Black Magic itself, alas, this is destine...  Mystery & Suspense  \n",
              "4      For all its flaws, it's a movie-lover's movie,...  Mystery & Suspense  \n",
              "...                                                  ...                 ...  \n",
              "91804  Krampus is undoubtedly slight, but it's also a...              Horror  \n",
              "91805  Not only did I love every silly, gothic, gorge...              Horror  \n",
              "91806  any movie that has the devil laughing to ave m...              Horror  \n",
              "91807  The Clovehitch Killer is one of those films th...              Horror  \n",
              "91808  For this coward, however, I found myself surpr...              Horror  \n",
              "\n",
              "[91809 rows x 4 columns]"
            ]
          },
          "execution_count": 3,
          "metadata": {},
          "output_type": "execute_result"
        }
      ],
      "source": [
        "df"
      ]
    },
    {
      "cell_type": "code",
      "execution_count": null,
      "id": "ec33a218",
      "metadata": {
        "id": "ec33a218"
      },
      "outputs": [],
      "source": [
        "genre_moviesno=df.groupby(['genres']).count()"
      ]
    },
    {
      "cell_type": "code",
      "execution_count": null,
      "id": "3c5052e8",
      "metadata": {
        "id": "3c5052e8",
        "outputId": "82d7df15-c31f-47d6-f340-ae6103e9c152"
      },
      "outputs": [
        {
          "data": {
            "text/html": [
              "<div>\n",
              "<style scoped>\n",
              "    .dataframe tbody tr th:only-of-type {\n",
              "        vertical-align: middle;\n",
              "    }\n",
              "\n",
              "    .dataframe tbody tr th {\n",
              "        vertical-align: top;\n",
              "    }\n",
              "\n",
              "    .dataframe thead th {\n",
              "        text-align: right;\n",
              "    }\n",
              "</style>\n",
              "<table border=\"1\" class=\"dataframe\">\n",
              "  <thead>\n",
              "    <tr style=\"text-align: right;\">\n",
              "      <th></th>\n",
              "      <th>rotten_tomatoes_link</th>\n",
              "      <th>review_type</th>\n",
              "      <th>review_content</th>\n",
              "    </tr>\n",
              "    <tr>\n",
              "      <th>genres</th>\n",
              "      <th></th>\n",
              "      <th></th>\n",
              "      <th></th>\n",
              "    </tr>\n",
              "  </thead>\n",
              "  <tbody>\n",
              "    <tr>\n",
              "      <th>Comedy</th>\n",
              "      <td>20000</td>\n",
              "      <td>20000</td>\n",
              "      <td>20000</td>\n",
              "    </tr>\n",
              "    <tr>\n",
              "      <th>Drama</th>\n",
              "      <td>20000</td>\n",
              "      <td>20000</td>\n",
              "      <td>20000</td>\n",
              "    </tr>\n",
              "    <tr>\n",
              "      <th>Horror</th>\n",
              "      <td>18976</td>\n",
              "      <td>18976</td>\n",
              "      <td>18976</td>\n",
              "    </tr>\n",
              "    <tr>\n",
              "      <th>Action &amp; Adventure</th>\n",
              "      <td>14148</td>\n",
              "      <td>14148</td>\n",
              "      <td>14148</td>\n",
              "    </tr>\n",
              "    <tr>\n",
              "      <th>Mystery &amp; Suspense</th>\n",
              "      <td>13460</td>\n",
              "      <td>13460</td>\n",
              "      <td>13460</td>\n",
              "    </tr>\n",
              "    <tr>\n",
              "      <th>Documentary</th>\n",
              "      <td>5225</td>\n",
              "      <td>5225</td>\n",
              "      <td>5225</td>\n",
              "    </tr>\n",
              "  </tbody>\n",
              "</table>\n",
              "</div>"
            ],
            "text/plain": [
              "                    rotten_tomatoes_link  review_type  review_content\n",
              "genres                                                               \n",
              "Comedy                             20000        20000           20000\n",
              "Drama                              20000        20000           20000\n",
              "Horror                             18976        18976           18976\n",
              "Action & Adventure                 14148        14148           14148\n",
              "Mystery & Suspense                 13460        13460           13460\n",
              "Documentary                         5225         5225            5225"
            ]
          },
          "execution_count": 5,
          "metadata": {},
          "output_type": "execute_result"
        }
      ],
      "source": [
        "genre_moviesno.sort_values(by=['rotten_tomatoes_link'],ascending=False)"
      ]
    },
    {
      "cell_type": "code",
      "execution_count": null,
      "id": "53b2b487",
      "metadata": {
        "id": "53b2b487"
      },
      "outputs": [],
      "source": []
    },
    {
      "cell_type": "code",
      "execution_count": null,
      "id": "4024dd2b",
      "metadata": {
        "id": "4024dd2b"
      },
      "outputs": [],
      "source": [
        "genre=['Drama','Comedy','Documentary','Horror','Mystery & Suspense','Action & Adventure']\n",
        "df0=df.loc[df['genres'].isin([genre[0]])]\n",
        "df1=df.loc[df['genres'].isin([genre[1]])]\n",
        "df2=df.loc[df['genres'].isin([genre[2]])]\n",
        "df3=df.loc[df['genres'].isin([genre[3]])]\n",
        "df4=df.loc[df['genres'].isin([genre[4]])]\n",
        "df5=df.loc[df['genres'].isin([genre[5]])]"
      ]
    },
    {
      "cell_type": "code",
      "execution_count": null,
      "id": "47c31277",
      "metadata": {
        "id": "47c31277"
      },
      "outputs": [],
      "source": [
        "X_train_drama,y_train_drama,X_test_drama,y_test_drama = prepare_kfold_datasets(5,df0)\n",
        "X_train_comedy,y_train_comedy,X_test_comedy,y_test_comedy = prepare_kfold_datasets(5,df1)\n",
        "X_train_documentary,y_train_documentary,X_test_documentary,y_test_documentary = prepare_kfold_datasets(5,df2)\n",
        "X_train_horror,y_train_horror,X_test_horror,y_test_horror = prepare_kfold_datasets(5,df3)\n",
        "X_train_mystery,y_train_mystery,X_test_mystery,y_test_mystery = prepare_kfold_datasets(5,df4)\n",
        "X_train_action,y_train_action,X_test_action,y_test_action = prepare_kfold_datasets(5,df5)"
      ]
    },
    {
      "cell_type": "code",
      "execution_count": null,
      "id": "fe21dbc0",
      "metadata": {
        "id": "fe21dbc0"
      },
      "outputs": [],
      "source": [
        "all=[]\n",
        "X_train_all=[]\n",
        "for i1,i2,i3,i4,i5,i6 in zip(X_train_drama,X_train_comedy,X_train_documentary,X_train_horror,X_train_mystery,X_train_action):\n",
        "    all=i1+i2+i3+i4+i5+i6\n",
        "    X_train_all.append(all)"
      ]
    },
    {
      "cell_type": "code",
      "execution_count": null,
      "id": "f07baf80",
      "metadata": {
        "id": "f07baf80"
      },
      "outputs": [],
      "source": [
        "all=[]\n",
        "y_train_all=[]\n",
        "for i1,i2,i3,i4,i5,i6 in zip(y_train_drama,y_train_comedy,y_train_documentary,y_train_horror,y_train_mystery,y_train_action):\n",
        "    all=i1+i2+i3+i4+i5+i6\n",
        "    y_train_all.append(all)"
      ]
    },
    {
      "cell_type": "code",
      "execution_count": null,
      "id": "82742db3",
      "metadata": {
        "id": "82742db3"
      },
      "outputs": [],
      "source": [
        "all=[]\n",
        "X_test_all=[]\n",
        "for i1,i2,i3,i4,i5,i6 in zip(X_test_drama,X_test_comedy,X_test_documentary,X_test_horror,X_test_mystery,X_test_action):\n",
        "    all=i1+i2+i3+i4+i5+i6\n",
        "    X_test_all.append(all)"
      ]
    },
    {
      "cell_type": "code",
      "execution_count": null,
      "id": "875b9777",
      "metadata": {
        "id": "875b9777"
      },
      "outputs": [],
      "source": [
        "all=[]\n",
        "y_test_all=[]\n",
        "for i1,i2,i3,i4,i5,i6 in zip(y_test_drama,y_test_comedy,y_test_documentary,y_test_horror,y_test_mystery,y_test_action):\n",
        "    all=i1+i2+i3+i4+i5+i6\n",
        "    y_test_all.append(all)"
      ]
    },
    {
      "cell_type": "markdown",
      "id": "7b3b608a",
      "metadata": {
        "id": "7b3b608a"
      },
      "source": [
        "Save Data by Genre"
      ]
    },
    {
      "cell_type": "code",
      "execution_count": null,
      "id": "e1e9bf3a",
      "metadata": {
        "id": "e1e9bf3a"
      },
      "outputs": [],
      "source": [
        "X_train_drama_df=pd.DataFrame(data=X_train_drama)\n",
        "X_train_drama_df.to_csv('/content/drive/MyDrive/Colab Notebooks/data/genre/X_train_drama.csv',index=False)\n",
        "\n",
        "y_train_drama_df=pd.DataFrame(data=y_train_drama)\n",
        "y_train_drama_df.to_csv('/content/drive/MyDrive/Colab Notebooks/data/genre/y_train_drama.csv',index=False)\n",
        "\n",
        "X_test_drama_df=pd.DataFrame(data=X_test_drama)\n",
        "X_test_drama_df.to_csv('/content/drive/MyDrive/Colab Notebooks/data/genre/X_test_drama.csv',index=False)\n",
        "\n",
        "y_test_drama_df=pd.DataFrame(data=y_test_drama)\n",
        "y_test_drama_df.to_csv('/content/drive/MyDrive/Colab Notebooks/data/genre/y_test_drama.csv',index=False)"
      ]
    },
    {
      "cell_type": "code",
      "execution_count": null,
      "id": "1ce5dcfa",
      "metadata": {
        "id": "1ce5dcfa"
      },
      "outputs": [],
      "source": [
        "X_train_comedy_df=pd.DataFrame(data=X_train_comedy)\n",
        "X_train_comedy_df.to_csv('/content/drive/MyDrive/Colab Notebooks/data/genre/X_train_comedy.csv',index=False)\n",
        "\n",
        "y_train_comedy_df=pd.DataFrame(data=y_train_comedy)\n",
        "y_train_comedy_df.to_csv('/content/drive/MyDrive/Colab Notebooks/data/genre/y_train_comedy.csv',index=False)\n",
        "\n",
        "X_test_comedy_df=pd.DataFrame(data=X_test_comedy)\n",
        "X_test_comedy_df.to_csv('/content/drive/MyDrive/Colab Notebooks/data/genre/X_test_comedy.csv',index=False)\n",
        "\n",
        "y_test_comedy_df=pd.DataFrame(data=y_test_comedy)\n",
        "y_test_comedy_df.to_csv('/content/drive/MyDrive/Colab Notebooks/data/genre/y_test_comedy.csv',index=False)"
      ]
    },
    {
      "cell_type": "code",
      "execution_count": null,
      "id": "78e06f00",
      "metadata": {
        "id": "78e06f00"
      },
      "outputs": [],
      "source": [
        "X_train_documentary_df=pd.DataFrame(data=X_train_documentary)\n",
        "X_train_documentary_df.to_csv('/content/drive/MyDrive/Colab Notebooks/data/genre/X_train_documentary.csv',index=False)\n",
        "\n",
        "y_train_documentary_df=pd.DataFrame(data=y_train_documentary)\n",
        "y_train_documentary_df.to_csv('/content/drive/MyDrive/Colab Notebooks/data/genre/y_train_documentary.csv',index=False)\n",
        "\n",
        "X_test_documentary_df=pd.DataFrame(data=X_test_documentary)\n",
        "X_test_documentary_df.to_csv('/content/drive/MyDrive/Colab Notebooks/data/genre/X_test_documentary.csv',index=False)\n",
        "\n",
        "y_test_documentary_df=pd.DataFrame(data=y_test_documentary)\n",
        "y_test_documentary_df.to_csv('/content/drive/MyDrive/Colab Notebooks/data/genre/y_test_documentary.csv',index=False)"
      ]
    },
    {
      "cell_type": "code",
      "execution_count": null,
      "id": "75a7c070",
      "metadata": {
        "id": "75a7c070"
      },
      "outputs": [],
      "source": [
        "X_train_horror_df=pd.DataFrame(data=X_train_horror)\n",
        "X_train_horror_df.to_csv('/content/drive/MyDrive/Colab Notebooks/data/genre/X_train_horror.csv',index=False)\n",
        "\n",
        "y_train_horror_df=pd.DataFrame(data=y_train_horror)\n",
        "y_train_horror_df.to_csv('/content/drive/MyDrive/Colab Notebooks/data/genre/y_train_horror.csv',index=False)\n",
        "\n",
        "X_test_horror_df=pd.DataFrame(data=X_test_horror)\n",
        "X_test_horror_df.to_csv('/content/drive/MyDrive/Colab Notebooks/data/genre/X_test_horror.csv',index=False)\n",
        "\n",
        "y_test_horror_df=pd.DataFrame(data=y_test_horror)\n",
        "y_test_horror_df.to_csv('/content/drive/MyDrive/Colab Notebooks/data/genre/y_test_horror.csv',index=False)"
      ]
    },
    {
      "cell_type": "code",
      "execution_count": null,
      "id": "68d4b889",
      "metadata": {
        "id": "68d4b889"
      },
      "outputs": [],
      "source": [
        "X_train_mystery_df=pd.DataFrame(data=X_train_mystery)\n",
        "X_train_mystery_df.to_csv('/content/drive/MyDrive/Colab Notebooks/data/genre/X_train_mystery.csv',index=False)\n",
        "\n",
        "y_train_mystery_df=pd.DataFrame(data=y_train_mystery)\n",
        "y_train_mystery_df.to_csv('/content/drive/MyDrive/Colab Notebooks/data/genre/y_train_mystery.csv',index=False)\n",
        "\n",
        "X_test_mystery_df=pd.DataFrame(data=X_test_mystery)\n",
        "X_test_mystery_df.to_csv('/content/drive/MyDrive/Colab Notebooks/data/genre/X_test_mystery.csv',index=False)\n",
        "\n",
        "y_test_mystery_df=pd.DataFrame(data=y_test_mystery)\n",
        "y_test_mystery_df.to_csv('/content/drive/MyDrive/Colab Notebooks/data/genre/y_test_mystery.csv',index=False)"
      ]
    },
    {
      "cell_type": "code",
      "execution_count": null,
      "id": "d65d44c9",
      "metadata": {
        "id": "d65d44c9"
      },
      "outputs": [],
      "source": [
        "X_train_action_df=pd.DataFrame(data=X_train_action)\n",
        "X_train_action_df.to_csv('/content/drive/MyDrive/Colab Notebooks/data/genre/X_train_action.csv',index=False)\n",
        "\n",
        "y_train_action_df=pd.DataFrame(data=y_train_action)\n",
        "y_train_action_df.to_csv('/content/drive/MyDrive/Colab Notebooks/data/genre/y_train_action.csv',index=False)\n",
        "\n",
        "X_test_action_df=pd.DataFrame(data=X_test_action)\n",
        "X_test_action_df.to_csv('/content/drive/MyDrive/Colab Notebooks/data/genre/X_test_action.csv',index=False)\n",
        "\n",
        "y_test_action_df=pd.DataFrame(data=y_test_action)\n",
        "y_test_action_df.to_csv('/content/drive/MyDrive/Colab Notebooks/data/genre/y_test_action.csv',index=False)"
      ]
    },
    {
      "cell_type": "markdown",
      "id": "7eba399d",
      "metadata": {
        "id": "7eba399d"
      },
      "source": [
        "Save Data by All"
      ]
    },
    {
      "cell_type": "code",
      "execution_count": null,
      "id": "831424f3",
      "metadata": {
        "id": "831424f3"
      },
      "outputs": [],
      "source": [
        "X_train_all_df=pd.DataFrame(data=X_train_all)\n",
        "X_train_all_df.to_csv('/content/drive/MyDrive/Colab Notebooks/data/all/X_train_all.csv',index=False)\n",
        "\n",
        "y_train_all_df=pd.DataFrame(data=y_train_all)\n",
        "y_train_all_df.to_csv('/content/drive/MyDrive/Colab Notebooks/data/all/y_train_all.csv',index=False)\n",
        "\n",
        "X_test_all_df=pd.DataFrame(data=X_test_all)\n",
        "X_test_all_df.to_csv('/content/drive/MyDrive/Colab Notebooks/data/all/X_test_all.csv',index=False)\n",
        "\n",
        "y_test_all_df=pd.DataFrame(data=y_test_all)\n",
        "y_test_all_df.to_csv('/content/drive/MyDrive/Colab Notebooks/data/all/y_test_all.csv',index=False)"
      ]
    },
    {
      "cell_type": "code",
      "execution_count": null,
      "id": "f098aa19",
      "metadata": {
        "id": "f098aa19"
      },
      "outputs": [],
      "source": []
    }
  ],
  "metadata": {
    "kernelspec": {
      "display_name": "Python 3",
      "language": "python",
      "name": "python3"
    },
    "language_info": {
      "codemirror_mode": {
        "name": "ipython",
        "version": 3
      },
      "file_extension": ".py",
      "mimetype": "text/x-python",
      "name": "python",
      "nbconvert_exporter": "python",
      "pygments_lexer": "ipython3",
      "version": "3.8.8"
    },
    "colab": {
      "provenance": [],
      "include_colab_link": true
    }
  },
  "nbformat": 4,
  "nbformat_minor": 5
}