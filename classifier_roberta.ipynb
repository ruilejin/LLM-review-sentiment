{
  "cells": [
    {
      "cell_type": "markdown",
      "metadata": {
        "id": "view-in-github",
        "colab_type": "text"
      },
      "source": [
        "<a href=\"https://colab.research.google.com/github/ruilejin/LLM-review-sentiment/blob/main/classifier_roberta.ipynb\" target=\"_parent\"><img src=\"https://colab.research.google.com/assets/colab-badge.svg\" alt=\"Open In Colab\"/></a>"
      ]
    },
    {
      "cell_type": "code",
      "source": [
        "from google.colab import drive\n",
        "drive.mount('/content/drive')"
      ],
      "metadata": {
        "id": "MKrdDxEpEXrE"
      },
      "execution_count": null,
      "outputs": []
    },
    {
      "cell_type": "code",
      "execution_count": null,
      "metadata": {
        "id": "O6C8_K72BMve"
      },
      "outputs": [],
      "source": [
        "import numpy as np\n",
        "import pandas as pd\n",
        "from sklearn.metrics import accuracy_score, recall_score, precision_score, f1_score\n",
        "import torch\n",
        "from torch.utils.data import DataLoader, Dataset\n",
        "import transformers\n",
        "from transformers import AdamW\n",
        "from transformers import RobertaTokenizerFast\n",
        "from transformers import TrainingArguments, Trainer\n",
        "from transformers import RobertaForSequenceClassification\n",
        "from sklearn.model_selection import KFold"
      ]
    },
    {
      "cell_type": "markdown",
      "metadata": {
        "id": "aFmafNDlevEO"
      },
      "source": [
        "Import data"
      ]
    },
    {
      "cell_type": "code",
      "execution_count": null,
      "metadata": {
        "id": "tQoZT0hcevEP"
      },
      "outputs": [],
      "source": [
        "X_train_drama_df=pd.read_csv('/content/drive/MyDrive/Colab Notebooks/data/genre/X_train_drama.csv',sep=',')\n",
        "y_train_drama_df=pd.read_csv('/content/drive/MyDrive/Colab Notebooks/data/genre/y_train_drama.csv',sep=',')\n",
        "X_test_drama_df=pd.read_csv('/content/drive/MyDrive/Colab Notebooks/data/genre/X_test_drama.csv',sep=',')\n",
        "y_test_drama_df=pd.read_csv('/content/drive/MyDrive/Colab Notebooks/data/genre/y_test_drama.csv',sep=',')"
      ]
    },
    {
      "cell_type": "code",
      "source": [
        "from google.colab import drive\n",
        "drive.mount('/content/drive')"
      ],
      "metadata": {
        "id": "5Ft8Z6poBhZ3"
      },
      "execution_count": null,
      "outputs": []
    },
    {
      "cell_type": "code",
      "execution_count": null,
      "metadata": {
        "id": "9rggDPPVevEP"
      },
      "outputs": [],
      "source": [
        "X_train_comedy_df=pd.read_csv('/content/drive/MyDrive/Colab Notebooks/data/genre/X_train_comedy.csv',sep=',')\n",
        "y_train_comedy_df=pd.read_csv('/content/drive/MyDrive/Colab Notebooks/data/genre/y_train_comedy.csv',sep=',')\n",
        "X_test_comedy_df=pd.read_csv('/content/drive/MyDrive/Colab Notebooks/data/genre/X_test_comedy.csv',sep=',')\n",
        "y_test_comedy_df=pd.read_csv('/content/drive/MyDrive/Colab Notebooks/data/genre/y_test_comedy.csv',sep=',')"
      ]
    },
    {
      "cell_type": "code",
      "execution_count": null,
      "metadata": {
        "id": "WJvw845QevEQ"
      },
      "outputs": [],
      "source": [
        "X_train_documentary_df=pd.read_csv('/content/drive/MyDrive/Colab Notebooks/data/genre/X_train_documentary.csv',sep=',')\n",
        "y_train_documentary_df=pd.read_csv('/content/drive/MyDrive/Colab Notebooks/data/genre/y_train_documentary.csv',sep=',')\n",
        "X_test_documentary_df=pd.read_csv('/content/drive/MyDrive/Colab Notebooks/data/genre/X_test_documentary.csv',sep=',')\n",
        "y_test_documentary_df=pd.read_csv('/content/drive/MyDrive/Colab Notebooks/data/genre/y_test_documentary.csv',sep=',')"
      ]
    },
    {
      "cell_type": "code",
      "execution_count": null,
      "metadata": {
        "id": "ad7MjV3UevEQ"
      },
      "outputs": [],
      "source": [
        "X_train_horror_df=pd.read_csv('/content/drive/MyDrive/Colab Notebooks/data/genre/X_train_horror.csv',sep=',')\n",
        "y_train_horror_df=pd.read_csv('/content/drive/MyDrive/Colab Notebooks/data/genre/y_train_horror.csv',sep=',')\n",
        "X_test_horror_df=pd.read_csv('/content/drive/MyDrive/Colab Notebooks/data/genre/X_test_horror.csv',sep=',')\n",
        "y_test_horror_df=pd.read_csv('/content/drive/MyDrive/Colab Notebooks/data/genre/y_test_horror.csv',sep=',')\n",
        "X_train_horror_df=X_train_horror_df.dropna(axis=1)\n",
        "y_train_horror_df=y_train_horror_df.dropna(axis=1)\n",
        "X_test_horror_df=X_test_horror_df.dropna(axis=1)\n",
        "y_test_horror_df=y_test_horror_df.dropna(axis=1)"
      ]
    },
    {
      "cell_type": "code",
      "execution_count": null,
      "metadata": {
        "id": "xOlWtnLeevEQ"
      },
      "outputs": [],
      "source": [
        "X_train_mystery_df=pd.read_csv('/content/drive/MyDrive/Colab Notebooks/data/genre/X_train_mystery.csv',sep=',')\n",
        "y_train_mystery_df=pd.read_csv('/content/drive/MyDrive/Colab Notebooks/data/genre/y_train_mystery.csv',sep=',')\n",
        "X_test_mystery_df=pd.read_csv('/content/drive/MyDrive/Colab Notebooks/data/genre/X_test_mystery.csv',sep=',')\n",
        "y_test_mystery_df=pd.read_csv('/content/drive/MyDrive/Colab Notebooks/data/genre/y_test_mystery.csv',sep=',')"
      ]
    },
    {
      "cell_type": "code",
      "execution_count": null,
      "metadata": {
        "id": "EgRendlcevEQ"
      },
      "outputs": [],
      "source": [
        "X_train_action_df=pd.read_csv('/content/drive/MyDrive/Colab Notebooks/data/genre/X_train_action.csv',sep=',')\n",
        "y_train_action_df=pd.read_csv('/content/drive/MyDrive/Colab Notebooks/data/genre/y_train_action.csv',sep=',')\n",
        "X_test_action_df=pd.read_csv('/content/drive/MyDrive/Colab Notebooks/data/genre/X_test_action.csv',sep=',')\n",
        "y_test_action_df=pd.read_csv('/content/drive/MyDrive/Colab Notebooks/data/genre/y_test_action.csv',sep=',')\n",
        "X_train_action_df=X_train_action_df.dropna(axis=1)\n",
        "y_train_action_df=y_train_action_df.dropna(axis=1)\n",
        "X_test_action_df=X_test_action_df.dropna(axis=1)\n",
        "y_test_action_df=y_test_action_df.dropna(axis=1)"
      ]
    },
    {
      "cell_type": "code",
      "execution_count": null,
      "metadata": {
        "id": "RfosovCbevER"
      },
      "outputs": [],
      "source": [
        "X_train_all_df=pd.read_csv('/content/drive/MyDrive/Colab Notebooks/data/all/X_train_all.csv',sep=',')\n",
        "y_train_all_df=pd.read_csv('/content/drive/MyDrive/Colab Notebooks/data/all/y_train_all.csv',sep=',')\n",
        "X_test_all_df=pd.read_csv('/content/drive/MyDrive/Colab Notebooks/data/all/X_test_all.csv',sep=',')\n",
        "y_test_all_df=pd.read_csv('/content/drive/MyDrive/Colab Notebooks/data/all/y_test_all.csv',sep=',')\n",
        "X_train_all_df=X_train_all_df.dropna(axis=1)\n",
        "y_train_all_df=y_train_all_df.dropna(axis=1)\n",
        "X_test_all_df=X_test_all_df.dropna(axis=1)\n",
        "y_test_all_df=y_test_all_df.dropna(axis=1)"
      ]
    },
    {
      "cell_type": "code",
      "execution_count": null,
      "metadata": {
        "id": "kUDQH9lj2L8h"
      },
      "outputs": [],
      "source": [
        "class Dataset(torch.utils.data.Dataset):\n",
        "  def __init__(self,encodings,labels=None):\n",
        "    self.encodings = encodings\n",
        "    self.labels = labels\n",
        "  def __getitem__(self,idx):\n",
        "    item = {key:torch.tensor(val[idx]) for key,val in self.encodings.items()} # We get the dictionary key and that particular example in the tensor representation\n",
        "    if self.labels:\n",
        "      item[\"labels\"] = torch.tensor(self.labels[idx]) # We also take a label at particular index\n",
        "    return item # return item which is a dictionary\n",
        "\n",
        "  def __len__(self):\n",
        "    return len(self.encodings[\"input_ids\"])"
      ]
    },
    {
      "cell_type": "code",
      "execution_count": null,
      "metadata": {
        "id": "L3ZStXbWevER"
      },
      "outputs": [],
      "source": [
        "def encoding_datasets(tokenizer,X_train, y_train, X_test, y_test):\n",
        "\n",
        "    tokenizer = tokenizer\n",
        "\n",
        "    train_encodings = tokenizer(X_train,max_length=64,truncation=True,padding=True,return_tensors='pt')\n",
        "    test_encodings = tokenizer(X_test,max_length=64,truncation=True,padding=True,return_tensors='pt')\n",
        "\n",
        "    train_dataset = Dataset(train_encodings,y_train)\n",
        "    test_dataset = Dataset(test_encodings,y_test)\n",
        "\n",
        "    return train_dataset,test_dataset"
      ]
    },
    {
      "cell_type": "code",
      "execution_count": null,
      "metadata": {
        "id": "HsQ-mIePevES"
      },
      "outputs": [],
      "source": [
        "def prepare_kfold_datasets(tokenizer,k,X_train_df,y_train_df,X_test_df,y_test_df):\n",
        "    train_datasets=[]\n",
        "    test_datasets=[]\n",
        "\n",
        "    for i in range(k):\n",
        "\n",
        "        X_train = list(X_train_df.iloc[i])\n",
        "        y_train = list(y_train_df.iloc[i])\n",
        "        X_test = list(X_test_df.iloc[i])\n",
        "        y_test = list(y_test_df.iloc[i])\n",
        "\n",
        "        train_dataset,test_dataset = encoding_datasets(tokenizer,X_train,y_train,X_test,y_test)\n",
        "\n",
        "        train_datasets.append(train_dataset)\n",
        "        test_datasets.append(test_dataset)\n",
        "\n",
        "    return train_datasets,test_datasets"
      ]
    },
    {
      "cell_type": "code",
      "execution_count": null,
      "metadata": {
        "id": "R9iRwPfxL2ZX"
      },
      "outputs": [],
      "source": [
        "def compute_metrics(p):\n",
        "  print(type(p))\n",
        "  pred,labels = p # transformer output has two thing, label and prediction\n",
        "  pred = np.argmax(pred,axis=1)\n",
        "\n",
        "  accuracy = accuracy_score(y_true=labels,y_pred=pred)\n",
        "  recall = recall_score(y_true=labels,y_pred=pred)\n",
        "  precision = precision_score(y_true=labels,y_pred=pred)\n",
        "  f1 = f1_score(y_true=labels,y_pred=pred)\n",
        "\n",
        "  return{\"accuracy\":accuracy,\"precision\":precision,\"recall\":recall,\"f1\":f1}"
      ]
    },
    {
      "cell_type": "code",
      "execution_count": null,
      "metadata": {
        "id": "8E7pHPokevES"
      },
      "outputs": [],
      "source": [
        "tokenizer = RobertaTokenizerFast.from_pretrained(\"roberta-base\")\n",
        "roberta_base = RobertaForSequenceClassification.from_pretrained(\"roberta-base\", num_labels=2)\n",
        "#roberta_rottentomatoes = RobertaForSequenceClassification.from_pretrained(\"/content/drive/MyDrive/Colab Notebooks/roberta-rottentomatoes\", num_labels=2)"
      ]
    },
    {
      "cell_type": "code",
      "execution_count": null,
      "metadata": {
        "id": "b_n_bUXEevES"
      },
      "outputs": [],
      "source": [
        "train_datasets_drama,test_datasets_drama = prepare_kfold_datasets(tokenizer,5,X_train_drama_df,y_train_drama_df,X_test_drama_df,y_test_drama_df)"
      ]
    },
    {
      "cell_type": "code",
      "execution_count": null,
      "metadata": {
        "id": "pc03qNHievES"
      },
      "outputs": [],
      "source": [
        "train_datasets_comedy,test_datasets_comedy = prepare_kfold_datasets(tokenizer,5,X_train_comedy_df,y_train_comedy_df,X_test_comedy_df,y_test_comedy_df)"
      ]
    },
    {
      "cell_type": "code",
      "execution_count": null,
      "metadata": {
        "id": "0VxATNh6evES"
      },
      "outputs": [],
      "source": [
        "train_datasets_documentary,test_datasets_documentary = prepare_kfold_datasets(tokenizer,5,X_train_documentary_df,y_train_documentary_df,X_test_documentary_df,y_test_documentary_df)"
      ]
    },
    {
      "cell_type": "code",
      "execution_count": null,
      "metadata": {
        "id": "wjcBT5Z9evES"
      },
      "outputs": [],
      "source": [
        "train_datasets_horror,test_datasets_horror = prepare_kfold_datasets(tokenizer,5,X_train_horror_df,y_train_horror_df,X_test_horror_df,y_test_horror_df)"
      ]
    },
    {
      "cell_type": "code",
      "execution_count": null,
      "metadata": {
        "id": "Bzd0AObXevET"
      },
      "outputs": [],
      "source": [
        "train_datasets_mystery,test_datasets_mystery = prepare_kfold_datasets(tokenizer,5,X_train_mystery_df,y_train_mystery_df,X_test_mystery_df,y_test_mystery_df)"
      ]
    },
    {
      "cell_type": "code",
      "execution_count": null,
      "metadata": {
        "id": "YlCvdrR_evET"
      },
      "outputs": [],
      "source": [
        "train_datasets_action,test_datasets_action = prepare_kfold_datasets(tokenizer,5,X_train_action_df,y_train_action_df,X_test_action_df,y_test_action_df)"
      ]
    },
    {
      "cell_type": "code",
      "execution_count": null,
      "metadata": {
        "id": "iVIMeLz5evET"
      },
      "outputs": [],
      "source": [
        "train_datasets_all,test_datasets_all = prepare_kfold_datasets(tokenizer,5,X_train_all_df,y_train_all_df,X_test_all_df,y_test_all_df)"
      ]
    },
    {
      "cell_type": "code",
      "execution_count": null,
      "metadata": {
        "id": "7487kJ1kevET"
      },
      "outputs": [],
      "source": []
    },
    {
      "cell_type": "markdown",
      "metadata": {
        "id": "o-UeglzxevET"
      },
      "source": [
        "By Genres"
      ]
    },
    {
      "cell_type": "code",
      "execution_count": null,
      "metadata": {
        "id": "GQPINWScnkUq"
      },
      "outputs": [],
      "source": [
        "# Define Trainer\n",
        "args = TrainingArguments(\n",
        "    output_dir=\"/content/drive/MyDrive/Colab Notebooks/outputs/output_roberta_base_bygenre\",\n",
        "    overwrite_output_dir=False,\n",
        "    num_train_epochs=2,\n",
        "    per_device_train_batch_size=8,\n",
        "    save_total_limit = 2,\n",
        "    learning_rate=3e-5,\n",
        "    save_strategy='no',\n",
        "    load_best_model_at_end = True,\n",
        "    metric_for_best_model = 'f1',\n",
        "    fp16 = True,\n",
        "    logging_steps = 100\n",
        ")\n",
        "trainer2 = Trainer(\n",
        "    model=roberta_base,\n",
        "    args=args,\n",
        "    train_dataset=train_datasets_documentary[4],\n",
        "    eval_dataset=test_datasets_documentary[4],\n",
        "    compute_metrics=compute_metrics\n",
        ")\n"
      ]
    },
    {
      "cell_type": "code",
      "execution_count": null,
      "metadata": {
        "id": "HOubgrMNr_EC"
      },
      "outputs": [],
      "source": [
        "trainer2.train()"
      ]
    },
    {
      "cell_type": "code",
      "execution_count": null,
      "metadata": {
        "id": "mI8OXPwBsCHy"
      },
      "outputs": [],
      "source": [
        "trainer2.evaluate()"
      ]
    },
    {
      "cell_type": "code",
      "execution_count": null,
      "metadata": {
        "id": "FksHgwhRevEU"
      },
      "outputs": [],
      "source": [
        "trainer2.save_model(\"/content/drive/MyDrive/Colab Notebooks/models/Base_documentary_4\")"
      ]
    },
    {
      "cell_type": "code",
      "execution_count": null,
      "metadata": {
        "id": "EW5EqzeTevEU"
      },
      "outputs": [],
      "source": []
    },
    {
      "cell_type": "markdown",
      "metadata": {
        "id": "RJkKHqNJevEU"
      },
      "source": [
        "By all"
      ]
    },
    {
      "cell_type": "code",
      "execution_count": null,
      "metadata": {
        "id": "RNc1zM9levEU"
      },
      "outputs": [],
      "source": [
        "# Define Trainer\n",
        "args = TrainingArguments(\n",
        "    output_dir=\"/content/drive/MyDrive/Colab Notebooks/outputs/output_roberta_base_byall\",\n",
        "    overwrite_output_dir=False,\n",
        "    num_train_epochs=1,\n",
        "    per_device_train_batch_size=8,\n",
        "    save_total_limit = 2,\n",
        "    learning_rate=3e-5,\n",
        "    save_strategy='no',\n",
        "    load_best_model_at_end = True,\n",
        "    metric_for_best_model = 'f1',\n",
        "    fp16 = True,\n",
        "    logging_steps = 100\n",
        ")\n",
        "trainer3 = Trainer(\n",
        "    model=roberta_base,\n",
        "    args=args,\n",
        "    train_dataset=train_datasets_all[4],\n",
        "    eval_dataset=test_datasets_all[4],\n",
        "    compute_metrics=compute_metrics\n",
        ")\n"
      ]
    },
    {
      "cell_type": "code",
      "execution_count": null,
      "metadata": {
        "id": "MXCfexn5evEU"
      },
      "outputs": [],
      "source": [
        "trainer3.train()"
      ]
    },
    {
      "cell_type": "code",
      "execution_count": null,
      "metadata": {
        "id": "okSPIM8RevEU"
      },
      "outputs": [],
      "source": [
        "trainer3.evaluate()"
      ]
    },
    {
      "cell_type": "code",
      "execution_count": null,
      "metadata": {
        "id": "1xJo8KppevEU"
      },
      "outputs": [],
      "source": [
        "trainer3.save_model(\"/content/drive/MyDrive/Colab Notebooks/models/Base_all/Finet_all_4\")"
      ]
    },
    {
      "cell_type": "code",
      "execution_count": null,
      "metadata": {
        "id": "gZ6TpKqNevEV"
      },
      "outputs": [],
      "source": [
        "# evaluate on different genre\n",
        "args = TrainingArguments(\n",
        "    output_dir=\"/content/drive/MyDrive/Colab Notebooks/outputs/output_roberta_base_byall\",\n",
        "    overwrite_output_dir=False,\n",
        "    num_train_epochs=1,\n",
        "    per_device_train_batch_size=8,\n",
        "    save_total_limit = 2,\n",
        "    learning_rate=3e-5,\n",
        "    save_strategy='no',\n",
        "    load_best_model_at_end = True,\n",
        "    metric_for_best_model = 'f1',\n",
        "    fp16 = True,\n",
        "    logging_steps = 100\n",
        ")\n",
        "trainer4 = Trainer(\n",
        "    model=RobertaForSequenceClassification.from_pretrained(\"/content/drive/MyDrive/Colab Notebooks/models/all/Finet_all_4\", num_labels=2),\n",
        "    args=args,\n",
        "    train_dataset=train_datasets_action[0],\n",
        "    eval_dataset=test_datasets_action[4],\n",
        "    compute_metrics=compute_metrics\n",
        ")"
      ]
    },
    {
      "cell_type": "code",
      "execution_count": null,
      "metadata": {
        "id": "JOwDAqYdevEV"
      },
      "outputs": [],
      "source": [
        "trainer4.evaluate()"
      ]
    },
    {
      "cell_type": "markdown",
      "metadata": {
        "id": "ps6FrVQLevEV"
      },
      "source": [
        "Ensemble"
      ]
    },
    {
      "cell_type": "code",
      "execution_count": null,
      "metadata": {
        "id": "Agm3npnuevEV"
      },
      "outputs": [],
      "source": [
        "def EnsembleClassifier(train_dataset,eval_dataset,cate,model=\"Base\"):\n",
        "    model=f\"./models/{model}_{cate}_0\"\n",
        "    categories=[\"drama\", \"comedy\", \"documentary\", \"horror\", \"mystery\", \"action\"]\n",
        "    if cate in categories:\n",
        "\n",
        "        args = TrainingArguments(\n",
        "        output_dir=\"/content/drive/MyDrive/Colab Notebooks/outputs/output_roberta_base_byall\",\n",
        "        overwrite_output_dir=False,\n",
        "        num_train_epochs=1,\n",
        "        per_device_train_batch_size=8,\n",
        "        save_total_limit = 2,\n",
        "        learning_rate=3e-5,\n",
        "        save_strategy='no',\n",
        "        load_best_model_at_end = True,\n",
        "        metric_for_best_model = 'f1',\n",
        "        fp16 = True,\n",
        "        logging_steps = 100\n",
        "    )\n",
        "\n",
        "        trainer = Trainer(\n",
        "        model=RobertaForSequenceClassification.from_pretrained(model, num_labels=2),\n",
        "        args=args,\n",
        "        train_dataset=train_dataset,\n",
        "        eval_dataset=eval_dataset,\n",
        "        compute_metrics=compute_metrics\n",
        "    )\n",
        "        print(trainer.evaluate())"
      ]
    },
    {
      "cell_type": "code",
      "execution_count": null,
      "metadata": {
        "id": "NYpgoOpdevEV"
      },
      "outputs": [],
      "source": [
        "EnsembleClassifier(train_datasets_drama[0],test_datasets_drama[0],\"drama\")"
      ]
    }
  ],
  "metadata": {
    "colab": {
      "provenance": [],
      "include_colab_link": true
    },
    "kernelspec": {
      "display_name": "Python 3",
      "name": "python3"
    },
    "language_info": {
      "codemirror_mode": {
        "name": "ipython",
        "version": 3
      },
      "file_extension": ".py",
      "mimetype": "text/x-python",
      "name": "python",
      "nbconvert_exporter": "python",
      "pygments_lexer": "ipython3",
      "version": "3.8.8"
    }
  },
  "nbformat": 4,
  "nbformat_minor": 0
}